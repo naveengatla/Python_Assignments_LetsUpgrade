{
 "cells": [
  {
   "cell_type": "code",
   "execution_count": 1,
   "metadata": {},
   "outputs": [
    {
     "name": "stdout",
     "output_type": "stream",
     "text": [
      "Hiii\n"
     ]
    }
   ],
   "source": [
    "print(\"Hiii\")"
   ]
  },
  {
   "cell_type": "code",
   "execution_count": 5,
   "metadata": {},
   "outputs": [
    {
     "name": "stdout",
     "output_type": "stream",
     "text": [
      "Requirement already satisfied: emails in c:\\users\\naveen gatla\\anaconda3\\lib\\site-packages (0.6)\n",
      "Requirement already satisfied: cssutils in c:\\users\\naveen gatla\\anaconda3\\lib\\site-packages (from emails) (2.2.0)\n",
      "Requirement already satisfied: lxml in c:\\users\\naveen gatla\\anaconda3\\lib\\site-packages (from emails) (4.6.1)\n",
      "Requirement already satisfied: chardet in c:\\users\\naveen gatla\\anaconda3\\lib\\site-packages (from emails) (3.0.4)\n",
      "Requirement already satisfied: premailer in c:\\users\\naveen gatla\\anaconda3\\lib\\site-packages (from emails) (3.8.0)\n",
      "Requirement already satisfied: requests in c:\\users\\naveen gatla\\anaconda3\\lib\\site-packages (from emails) (2.24.0)\n",
      "Requirement already satisfied: python-dateutil in c:\\users\\naveen gatla\\anaconda3\\lib\\site-packages (from emails) (2.8.1)\n",
      "Requirement already satisfied: cachetools in c:\\users\\naveen gatla\\anaconda3\\lib\\site-packages (from premailer->emails) (4.2.2)\n",
      "Requirement already satisfied: cssselect in c:\\users\\naveen gatla\\anaconda3\\lib\\site-packages (from premailer->emails) (1.1.0)\n",
      "Requirement already satisfied: idna<3,>=2.5 in c:\\users\\naveen gatla\\anaconda3\\lib\\site-packages (from requests->emails) (2.10)\n",
      "Requirement already satisfied: certifi>=2017.4.17 in c:\\users\\naveen gatla\\anaconda3\\lib\\site-packages (from requests->emails) (2020.6.20)\n",
      "Requirement already satisfied: urllib3!=1.25.0,!=1.25.1,<1.26,>=1.21.1 in c:\\users\\naveen gatla\\anaconda3\\lib\\site-packages (from requests->emails) (1.25.11)\n",
      "Requirement already satisfied: six>=1.5 in c:\\users\\naveen gatla\\anaconda3\\lib\\site-packages (from python-dateutil->emails) (1.15.0)\n"
     ]
    }
   ],
   "source": [
    "!pip install emails"
   ]
  },
  {
   "cell_type": "code",
   "execution_count": 7,
   "metadata": {},
   "outputs": [],
   "source": [
    "import emails"
   ]
  },
  {
   "cell_type": "code",
   "execution_count": 8,
   "metadata": {},
   "outputs": [],
   "source": [
    "student_name = \"Ajith\"\n",
    "message_html = '''<p>Hello</p>'''+ student_name +'''\n",
    "                <p>&nbsp;</p>\n",
    "                <p style=\"text-align: center;\">How are you. Hope you are doing well.</p>\n",
    "                <p style=\"text-align: center;\">We are happy that you are selected for the furthur round in Infosys hiring process.</p>\n",
    "                <p style=\"text-align: center;\">&nbsp;</p>\n",
    "                <p>Regard,</p>\n",
    "                <p><span style=\"color: #ff0000; background-color: #ffff00;\">Infosys hiring team.</span></p>'''\n",
    "\n",
    "message = emails.html(html=message_html,\n",
    "                          subject=\"Your receipt No. 567098123\",\n",
    "                          mail_from=('Infosys hiring team', 'store@somestore.com'))"
   ]
  },
  {
   "cell_type": "code",
   "execution_count": 9,
   "metadata": {},
   "outputs": [],
   "source": [
    "m =  message.send(to='gatlafun@gmail.com', \n",
    "                  smtp={'host': 'smtp.gmail.com', 'timeout': 5 ,\n",
    "                       'port':'587' ,\n",
    "                       'user':'naveengatla96@gmail.com',\n",
    "                       'password':'nani@naveen99',\n",
    "                       'tls': True})"
   ]
  },
  {
   "cell_type": "code",
   "execution_count": null,
   "metadata": {},
   "outputs": [],
   "source": []
  }
 ],
 "metadata": {
  "kernelspec": {
   "display_name": "Python 3",
   "language": "python",
   "name": "python3"
  },
  "language_info": {
   "codemirror_mode": {
    "name": "ipython",
    "version": 3
   },
   "file_extension": ".py",
   "mimetype": "text/x-python",
   "name": "python",
   "nbconvert_exporter": "python",
   "pygments_lexer": "ipython3",
   "version": "3.8.5"
  }
 },
 "nbformat": 4,
 "nbformat_minor": 4
}
